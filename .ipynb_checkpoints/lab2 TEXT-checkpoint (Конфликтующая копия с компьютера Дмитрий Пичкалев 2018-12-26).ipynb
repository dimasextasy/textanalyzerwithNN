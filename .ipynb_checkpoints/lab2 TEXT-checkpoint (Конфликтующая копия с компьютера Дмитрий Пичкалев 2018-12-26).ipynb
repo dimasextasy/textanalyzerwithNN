{
 "cells": [
  {
   "cell_type": "code",
   "execution_count": 34,
   "metadata": {},
   "outputs": [
    {
     "name": "stdout",
     "output_type": "stream",
     "text": [
      "Однажды [OpencorporaTag('ADVB')]\n",
      "я [OpencorporaTag('NPRO,1per sing,nomn')]\n",
      "шла [OpencorporaTag('VERB,impf,intr femn,sing,past,indc')]\n",
      "по [OpencorporaTag('PREP')]\n",
      "улице [OpencorporaTag('NOUN,inan,femn sing,loct'), OpencorporaTag('NOUN,inan,femn sing,datv')]\n",
      "и [OpencorporaTag('CONJ'), OpencorporaTag('INTJ'), OpencorporaTag('PRCL'), OpencorporaTag('NOUN,anim,masc,Fixd,Abbr sing,nomn'), OpencorporaTag('NOUN,anim,masc,Fixd,Abbr sing,gent'), OpencorporaTag('NOUN,anim,masc,Fixd,Abbr sing,datv'), OpencorporaTag('NOUN,anim,masc,Fixd,Abbr sing,accs'), OpencorporaTag('NOUN,anim,masc,Fixd,Abbr sing,ablt'), OpencorporaTag('NOUN,anim,masc,Fixd,Abbr sing,loct'), OpencorporaTag('NOUN,anim,masc,Fixd,Abbr plur,nomn'), OpencorporaTag('NOUN,anim,masc,Fixd,Abbr plur,gent'), OpencorporaTag('NOUN,anim,masc,Fixd,Abbr plur,datv'), OpencorporaTag('NOUN,anim,masc,Fixd,Abbr plur,accs'), OpencorporaTag('NOUN,anim,masc,Fixd,Abbr plur,ablt'), OpencorporaTag('NOUN,anim,masc,Fixd,Abbr plur,loct')]\n",
      "увидела [OpencorporaTag('VERB,perf,tran femn,sing,past,indc')]\n",
      "маленького [OpencorporaTag('ADJF,Qual masc,sing,gent'), OpencorporaTag('ADJF,Qual anim,masc,sing,accs'), OpencorporaTag('ADJF,Qual neut,sing,gent')]\n",
      "щенка. [OpencorporaTag('UNKN')]\n",
      "Я [OpencorporaTag('NPRO,1per sing,nomn'), OpencorporaTag('NOUN,anim,masc,Sgtm,Name,Fixd,Abbr,Init sing,nomn'), OpencorporaTag('NOUN,anim,masc,Sgtm,Name,Fixd,Abbr,Init sing,gent'), OpencorporaTag('NOUN,anim,masc,Sgtm,Name,Fixd,Abbr,Init sing,datv'), OpencorporaTag('NOUN,anim,masc,Sgtm,Name,Fixd,Abbr,Init sing,accs'), OpencorporaTag('NOUN,anim,masc,Sgtm,Name,Fixd,Abbr,Init sing,ablt'), OpencorporaTag('NOUN,anim,masc,Sgtm,Name,Fixd,Abbr,Init sing,loct'), OpencorporaTag('NOUN,anim,femn,Sgtm,Name,Fixd,Abbr,Init sing,nomn'), OpencorporaTag('NOUN,anim,femn,Sgtm,Name,Fixd,Abbr,Init sing,gent'), OpencorporaTag('NOUN,anim,femn,Sgtm,Name,Fixd,Abbr,Init sing,datv'), OpencorporaTag('NOUN,anim,femn,Sgtm,Name,Fixd,Abbr,Init sing,accs'), OpencorporaTag('NOUN,anim,femn,Sgtm,Name,Fixd,Abbr,Init sing,ablt'), OpencorporaTag('NOUN,anim,femn,Sgtm,Name,Fixd,Abbr,Init sing,loct'), OpencorporaTag('NOUN,anim,masc,Sgtm,Patr,Fixd,Abbr,Init sing,nomn'), OpencorporaTag('NOUN,anim,masc,Sgtm,Patr,Fixd,Abbr,Init sing,gent'), OpencorporaTag('NOUN,anim,masc,Sgtm,Patr,Fixd,Abbr,Init sing,datv'), OpencorporaTag('NOUN,anim,masc,Sgtm,Patr,Fixd,Abbr,Init sing,accs'), OpencorporaTag('NOUN,anim,masc,Sgtm,Patr,Fixd,Abbr,Init sing,ablt'), OpencorporaTag('NOUN,anim,masc,Sgtm,Patr,Fixd,Abbr,Init sing,loct'), OpencorporaTag('NOUN,anim,femn,Sgtm,Patr,Fixd,Abbr,Init sing,nomn'), OpencorporaTag('NOUN,anim,femn,Sgtm,Patr,Fixd,Abbr,Init sing,gent'), OpencorporaTag('NOUN,anim,femn,Sgtm,Patr,Fixd,Abbr,Init sing,datv'), OpencorporaTag('NOUN,anim,femn,Sgtm,Patr,Fixd,Abbr,Init sing,accs'), OpencorporaTag('NOUN,anim,femn,Sgtm,Patr,Fixd,Abbr,Init sing,ablt'), OpencorporaTag('NOUN,anim,femn,Sgtm,Patr,Fixd,Abbr,Init sing,loct')]\n",
      "его [OpencorporaTag('NPRO,masc,3per,Anph sing,accs'), OpencorporaTag('NPRO,neut,3per,Anph sing,gent'), OpencorporaTag('NPRO,neut,3per,Anph sing,accs'), OpencorporaTag('ADJF,Fixd,Apro,Anph femn,sing,gent'), OpencorporaTag('ADJF,Fixd,Apro,Anph neut,sing,gent'), OpencorporaTag('ADJF,Fixd,Apro,Anph plur,nomn'), OpencorporaTag('ADJF,Fixd,Apro,Anph plur,datv'), OpencorporaTag('NPRO,masc,3per,Anph sing,gent'), OpencorporaTag('ADJF,Fixd,Apro,Anph masc,sing,nomn'), OpencorporaTag('ADJF,Fixd,Apro,Anph masc,sing,gent'), OpencorporaTag('ADJF,Fixd,Apro,Anph masc,sing,datv'), OpencorporaTag('ADJF,Fixd,Apro,Anph masc,sing,accs'), OpencorporaTag('ADJF,Fixd,Apro,Anph masc,sing,ablt'), OpencorporaTag('ADJF,Fixd,Apro,Anph masc,sing,loct'), OpencorporaTag('ADJF,Fixd,Apro,Anph femn,sing,nomn'), OpencorporaTag('ADJF,Fixd,Apro,Anph femn,sing,datv'), OpencorporaTag('ADJF,Fixd,Apro,Anph femn,sing,accs'), OpencorporaTag('ADJF,Fixd,Apro,Anph femn,sing,ablt'), OpencorporaTag('ADJF,Fixd,Apro,Anph femn,sing,loct'), OpencorporaTag('ADJF,Fixd,Apro,Anph neut,sing,nomn'), OpencorporaTag('ADJF,Fixd,Apro,Anph neut,sing,datv'), OpencorporaTag('ADJF,Fixd,Apro,Anph neut,sing,accs'), OpencorporaTag('ADJF,Fixd,Apro,Anph neut,sing,ablt'), OpencorporaTag('ADJF,Fixd,Apro,Anph neut,sing,loct'), OpencorporaTag('ADJF,Fixd,Apro,Anph plur,gent'), OpencorporaTag('ADJF,Fixd,Apro,Anph plur,accs'), OpencorporaTag('ADJF,Fixd,Apro,Anph plur,ablt'), OpencorporaTag('ADJF,Fixd,Apro,Anph plur,loct')]\n",
      "взяла [OpencorporaTag('VERB,perf,tran femn,sing,past,indc')]\n",
      "и [OpencorporaTag('CONJ'), OpencorporaTag('INTJ'), OpencorporaTag('PRCL'), OpencorporaTag('NOUN,anim,masc,Fixd,Abbr sing,nomn'), OpencorporaTag('NOUN,anim,masc,Fixd,Abbr sing,gent'), OpencorporaTag('NOUN,anim,masc,Fixd,Abbr sing,datv'), OpencorporaTag('NOUN,anim,masc,Fixd,Abbr sing,accs'), OpencorporaTag('NOUN,anim,masc,Fixd,Abbr sing,ablt'), OpencorporaTag('NOUN,anim,masc,Fixd,Abbr sing,loct'), OpencorporaTag('NOUN,anim,masc,Fixd,Abbr plur,nomn'), OpencorporaTag('NOUN,anim,masc,Fixd,Abbr plur,gent'), OpencorporaTag('NOUN,anim,masc,Fixd,Abbr plur,datv'), OpencorporaTag('NOUN,anim,masc,Fixd,Abbr plur,accs'), OpencorporaTag('NOUN,anim,masc,Fixd,Abbr plur,ablt'), OpencorporaTag('NOUN,anim,masc,Fixd,Abbr plur,loct')]\n",
      "принесла [OpencorporaTag('VERB,perf,tran femn,sing,past,indc')]\n",
      "себе [OpencorporaTag('NPRO,Anph sing,datv'), OpencorporaTag('PRCL'), OpencorporaTag('NPRO,Anph sing,loct')]\n",
      "домой. [OpencorporaTag('UNKN')]\n",
      "Щенка [OpencorporaTag('NOUN,anim,masc sing,gent'), OpencorporaTag('NOUN,anim,masc sing,accs')]\n",
      "назвала [OpencorporaTag('VERB,perf,tran femn,sing,past,indc')]\n",
      "Рексик. [OpencorporaTag('UNKN')]\n",
      "Рексик [OpencorporaTag('NOUN,anim,masc sing,nomn'), OpencorporaTag('NOUN,inan,femn plur,gent')]\n",
      "рос [OpencorporaTag('VERB,impf,intr masc,sing,past,indc'), OpencorporaTag('NOUN,inan,femn plur,gent')]\n",
      "не [OpencorporaTag('PRCL')]\n",
      "подням, [OpencorporaTag('UNKN')]\n",
      "а [OpencorporaTag('CONJ'), OpencorporaTag('INTJ'), OpencorporaTag('PRCL')]\n",
      "по [OpencorporaTag('PREP')]\n",
      "часам. [OpencorporaTag('UNKN')]\n",
      "Был [OpencorporaTag('VERB,impf,intr masc,sing,past,indc')]\n",
      "весёлым, [OpencorporaTag('UNKN')]\n",
      "быстрым, [OpencorporaTag('UNKN')]\n",
      "ловким. [OpencorporaTag('UNKN')]\n",
      "У [OpencorporaTag('PREP'), OpencorporaTag('INTJ'), OpencorporaTag('NOUN,anim,masc,Sgtm,Name,Fixd,Abbr,Init sing,nomn'), OpencorporaTag('NOUN,anim,masc,Sgtm,Name,Fixd,Abbr,Init sing,gent'), OpencorporaTag('NOUN,anim,masc,Sgtm,Name,Fixd,Abbr,Init sing,datv'), OpencorporaTag('NOUN,anim,masc,Sgtm,Name,Fixd,Abbr,Init sing,accs'), OpencorporaTag('NOUN,anim,masc,Sgtm,Name,Fixd,Abbr,Init sing,ablt'), OpencorporaTag('NOUN,anim,masc,Sgtm,Name,Fixd,Abbr,Init sing,loct'), OpencorporaTag('NOUN,anim,femn,Sgtm,Name,Fixd,Abbr,Init sing,nomn'), OpencorporaTag('NOUN,anim,femn,Sgtm,Name,Fixd,Abbr,Init sing,gent'), OpencorporaTag('NOUN,anim,femn,Sgtm,Name,Fixd,Abbr,Init sing,datv'), OpencorporaTag('NOUN,anim,femn,Sgtm,Name,Fixd,Abbr,Init sing,accs'), OpencorporaTag('NOUN,anim,femn,Sgtm,Name,Fixd,Abbr,Init sing,ablt'), OpencorporaTag('NOUN,anim,femn,Sgtm,Name,Fixd,Abbr,Init sing,loct'), OpencorporaTag('NOUN,anim,masc,Sgtm,Patr,Fixd,Abbr,Init sing,nomn'), OpencorporaTag('NOUN,anim,masc,Sgtm,Patr,Fixd,Abbr,Init sing,gent'), OpencorporaTag('NOUN,anim,masc,Sgtm,Patr,Fixd,Abbr,Init sing,datv'), OpencorporaTag('NOUN,anim,masc,Sgtm,Patr,Fixd,Abbr,Init sing,accs'), OpencorporaTag('NOUN,anim,masc,Sgtm,Patr,Fixd,Abbr,Init sing,ablt'), OpencorporaTag('NOUN,anim,masc,Sgtm,Patr,Fixd,Abbr,Init sing,loct'), OpencorporaTag('NOUN,anim,femn,Sgtm,Patr,Fixd,Abbr,Init sing,nomn'), OpencorporaTag('NOUN,anim,femn,Sgtm,Patr,Fixd,Abbr,Init sing,gent'), OpencorporaTag('NOUN,anim,femn,Sgtm,Patr,Fixd,Abbr,Init sing,datv'), OpencorporaTag('NOUN,anim,femn,Sgtm,Patr,Fixd,Abbr,Init sing,accs'), OpencorporaTag('NOUN,anim,femn,Sgtm,Patr,Fixd,Abbr,Init sing,ablt'), OpencorporaTag('NOUN,anim,femn,Sgtm,Patr,Fixd,Abbr,Init sing,loct')]\n",
      "моих [OpencorporaTag('ADJF,Apro plur,gent'), OpencorporaTag('ADJF,Apro plur,loct'), OpencorporaTag('ADJF,Apro anim,plur,accs')]\n",
      "подруг [OpencorporaTag('NOUN,anim,femn plur,gent'), OpencorporaTag('NOUN,anim,femn plur,accs')]\n",
      "тоже [OpencorporaTag('ADVB'), OpencorporaTag('CONJ'), OpencorporaTag('PRCL')]\n",
      "были [OpencorporaTag('VERB,impf,intr plur,past,indc'), OpencorporaTag('NOUN,inan,femn sing,gent'), OpencorporaTag('NOUN,inan,femn sing,datv'), OpencorporaTag('NOUN,inan,femn sing,loct'), OpencorporaTag('NOUN,inan,femn plur,nomn'), OpencorporaTag('NOUN,inan,femn plur,accs')]\n",
      "собаки: [OpencorporaTag('UNKN')]\n",
      "у [OpencorporaTag('PREP'), OpencorporaTag('INTJ')]\n",
      "Кати [OpencorporaTag('NOUN,anim,femn,Name sing,gent'), OpencorporaTag('NOUN,anim,femn,Name plur,nomn'), OpencorporaTag('VERB,impf,tran sing,impr,excl')]\n",
      "собаку [OpencorporaTag('NOUN,anim,femn sing,accs')]\n",
      "звали [OpencorporaTag('VERB,impf,tran plur,past,indc')]\n",
      "Волга, [OpencorporaTag('UNKN')]\n",
      "у [OpencorporaTag('PREP'), OpencorporaTag('INTJ')]\n",
      "Маши [OpencorporaTag('NOUN,anim,femn,Name sing,gent'), OpencorporaTag('VERB,impf,intr sing,impr,excl'), OpencorporaTag('NOUN,anim,femn,Name plur,nomn')]\n",
      "- [OpencorporaTag('PNCT')]\n",
      "Тобик, [OpencorporaTag('UNKN')]\n",
      "у [OpencorporaTag('PREP'), OpencorporaTag('INTJ')]\n",
      "Насти [OpencorporaTag('NOUN,anim,femn,Name sing,gent'), OpencorporaTag('NOUN,anim,femn,Name plur,nomn')]\n",
      "- [OpencorporaTag('PNCT')]\n",
      "Тошка, [OpencorporaTag('UNKN')]\n",
      "у [OpencorporaTag('PREP'), OpencorporaTag('INTJ')]\n",
      "Яны [OpencorporaTag('NOUN,anim,masc,Name plur,nomn'), OpencorporaTag('NOUN,inan,femn,Sgtm,Geox sing,gent'), OpencorporaTag('NOUN,anim,femn,Name sing,gent'), OpencorporaTag('NOUN,anim,femn,Name plur,nomn')]\n",
      "- [OpencorporaTag('PNCT')]\n",
      "Тишка, [OpencorporaTag('UNKN')]\n",
      "а [OpencorporaTag('CONJ'), OpencorporaTag('INTJ'), OpencorporaTag('PRCL')]\n",
      "у [OpencorporaTag('PREP'), OpencorporaTag('INTJ')]\n",
      "Марины [OpencorporaTag('NOUN,anim,femn,Name sing,gent'), OpencorporaTag('NOUN,anim,masc,Name plur,nomn'), OpencorporaTag('NOUN,anim,femn,Name plur,nomn')]\n",
      "был [OpencorporaTag('VERB,impf,intr masc,sing,past,indc')]\n",
      "кот [OpencorporaTag('NOUN,anim,masc sing,nomn')]\n",
      "- [OpencorporaTag('PNCT')]\n",
      "Шустрик. [OpencorporaTag('UNKN')]\n",
      "А [OpencorporaTag('CONJ'), OpencorporaTag('INTJ'), OpencorporaTag('PRCL'), OpencorporaTag('NOUN,anim,masc,Sgtm,Name,Fixd,Abbr,Init sing,nomn'), OpencorporaTag('NOUN,anim,masc,Sgtm,Name,Fixd,Abbr,Init sing,gent'), OpencorporaTag('NOUN,anim,masc,Sgtm,Name,Fixd,Abbr,Init sing,datv'), OpencorporaTag('NOUN,anim,masc,Sgtm,Name,Fixd,Abbr,Init sing,accs'), OpencorporaTag('NOUN,anim,masc,Sgtm,Name,Fixd,Abbr,Init sing,ablt'), OpencorporaTag('NOUN,anim,masc,Sgtm,Name,Fixd,Abbr,Init sing,loct'), OpencorporaTag('NOUN,anim,femn,Sgtm,Name,Fixd,Abbr,Init sing,nomn'), OpencorporaTag('NOUN,anim,femn,Sgtm,Name,Fixd,Abbr,Init sing,gent'), OpencorporaTag('NOUN,anim,femn,Sgtm,Name,Fixd,Abbr,Init sing,datv'), OpencorporaTag('NOUN,anim,femn,Sgtm,Name,Fixd,Abbr,Init sing,accs'), OpencorporaTag('NOUN,anim,femn,Sgtm,Name,Fixd,Abbr,Init sing,ablt'), OpencorporaTag('NOUN,anim,femn,Sgtm,Name,Fixd,Abbr,Init sing,loct'), OpencorporaTag('NOUN,anim,masc,Sgtm,Patr,Fixd,Abbr,Init sing,nomn'), OpencorporaTag('NOUN,anim,masc,Sgtm,Patr,Fixd,Abbr,Init sing,gent'), OpencorporaTag('NOUN,anim,masc,Sgtm,Patr,Fixd,Abbr,Init sing,datv'), OpencorporaTag('NOUN,anim,masc,Sgtm,Patr,Fixd,Abbr,Init sing,accs'), OpencorporaTag('NOUN,anim,masc,Sgtm,Patr,Fixd,Abbr,Init sing,ablt'), OpencorporaTag('NOUN,anim,masc,Sgtm,Patr,Fixd,Abbr,Init sing,loct'), OpencorporaTag('NOUN,anim,femn,Sgtm,Patr,Fixd,Abbr,Init sing,nomn'), OpencorporaTag('NOUN,anim,femn,Sgtm,Patr,Fixd,Abbr,Init sing,gent'), OpencorporaTag('NOUN,anim,femn,Sgtm,Patr,Fixd,Abbr,Init sing,datv'), OpencorporaTag('NOUN,anim,femn,Sgtm,Patr,Fixd,Abbr,Init sing,accs'), OpencorporaTag('NOUN,anim,femn,Sgtm,Patr,Fixd,Abbr,Init sing,ablt'), OpencorporaTag('NOUN,anim,femn,Sgtm,Patr,Fixd,Abbr,Init sing,loct')]\n",
      "вот [OpencorporaTag('PRCL')]\n",
      "река [OpencorporaTag('NOUN,inan,femn sing,nomn')]\n",
      "Волга [OpencorporaTag('NOUN,inan,femn sing,nomn'), OpencorporaTag('NOUN,inan,femn,Sgtm,Geox sing,nomn')]\n",
      "вообще [OpencorporaTag('ADVB'), OpencorporaTag('CONJ,Prnt')]\n",
      "не [OpencorporaTag('PRCL')]\n",
      "похожа [OpencorporaTag('ADJS,Qual femn,sing')]\n",
      "на [OpencorporaTag('PREP'), OpencorporaTag('PRCL'), OpencorporaTag('INTJ')]\n",
      "собственное. [OpencorporaTag('UNKN')]\n",
      "Но [OpencorporaTag('CONJ'), OpencorporaTag('INTJ')]\n",
      "марка [OpencorporaTag('NOUN,inan,femn sing,nomn'), OpencorporaTag('ADJS,Qual femn,sing'), OpencorporaTag('NOUN,anim,masc,Name sing,gent'), OpencorporaTag('NOUN,anim,masc,Name sing,accs')]\n",
      "Бентли [OpencorporaTag('VERB,impf,tran sing,impr,excl'), OpencorporaTag('NOUN,anim,femn sing,gent'), OpencorporaTag('NOUN,anim,femn plur,nomn'), OpencorporaTag('VERB,perf,tran sing,impr,excl')]\n",
      "похожа. [OpencorporaTag('UNKN')]\n",
      "]]]]]]]]\n",
      "Я\n",
      "У\n",
      "Кати\n",
      "Маши\n",
      "Насти\n",
      "Яны\n",
      "Марины\n",
      "А\n",
      "марка\n"
     ]
    }
   ],
   "source": [
    "import pymorphy2\n",
    "\n",
    "morph = pymorphy2.MorphAnalyzer()\n",
    "\n",
    "text = \"\"\"\n",
    "Однажды я шла по улице и увидела маленького щенка. \n",
    "Я его взяла и принесла себе домой. Щенка назвала Рексик. \n",
    "Рексик рос не подням, а по часам. Был весёлым, быстрым, ловким. \n",
    "У моих подруг тоже были собаки: у Кати собаку звали Волга, у Маши - Тобик, \n",
    "у Насти - Тошка, у Яны - Тишка, а у Марины был кот - Шустрик. А вот река Волга вообще не похожа на собственное. \n",
    "Но марка Бентли похожа.\n",
    "\"\"\"\n",
    "\n",
    "word_list = text.split()\n",
    "for word in word_list:\n",
    "    print(word, [p.tag for p in morph.parse(word)])\n",
    "print(']]]]]]]]')\n",
    "        \n",
    "word_list2 = text.split()\n",
    "for word in word_list2:\n",
    "    is_name = any('Name' in p.tag for p in morph.parse(word))\n",
    "    if (is_name):\n",
    "        print(word)"
   ]
  },
  {
   "cell_type": "code",
   "execution_count": 35,
   "metadata": {
    "scrolled": true
   },
   "outputs": [
    {
     "name": "stdout",
     "output_type": "stream",
     "text": [
      "Я\n",
      "У\n",
      "Кати\n",
      "Маши\n",
      "Насти\n",
      "Яны\n",
      "Марины\n",
      "А\n",
      "марка\n"
     ]
    }
   ],
   "source": [
    "import pymorphy2\n",
    "\n",
    "morph = pymorphy2.MorphAnalyzer()\n",
    "\n",
    "text = \"\"\"\n",
    "Однажды я шла по улице и увидела маленького щенка. \n",
    "Я его взяла и принесла себе домой. Щенка назвала Рексик. \n",
    "Рексик рос не подням, а по часам. Был весёлым, быстрым, ловким. \n",
    "У моих подруг тоже были собаки: у Кати собаку звали Волга, у Маши - Тобик, \n",
    "у Насти - Тошка, у Яны - Тишка, а у Марины был кот - Шустрик. А вот река Волга вообще не похожа на собственное. \n",
    "Но марка Бентли похожа.\n",
    "\"\"\"\n",
    "\n",
    "word_list2 = text.split()\n",
    "for word in word_list2:\n",
    "    is_name = any('Name' in p.tag for p in morph.parse(word))\n",
    "    if (is_name):\n",
    "        print(word)\n",
    "\n"
   ]
  },
  {
   "cell_type": "code",
   "execution_count": null,
   "metadata": {},
   "outputs": [],
   "source": []
  },
  {
   "cell_type": "code",
   "execution_count": 20,
   "metadata": {},
   "outputs": [
    {
     "data": {
      "text/html": [
       "<style>\n",
       "\n",
       ".markup {\n",
       "    white-space: pre-wrap;\n",
       "}\n",
       "\n",
       ".markup > mark {\n",
       "    padding: 0.15em;\n",
       "    border-radius: 0.25em;\n",
       "    border: 1px solid #fdf07c;\n",
       "    background: #ffffc2;\n",
       "}\n",
       "    </style><div class=\"markup tex2jax_ignore\">\n",
       "Однажды я шла по улице и увидела маленького щенка. \n",
       "Я его взяла и принесла себе домой. Щенка назвала Рексик. \n",
       "Рексик рос не подням, а по часам. Был весёлым, быстрым, ловким. \n",
       "У моих подруг тоже были собаки: у <mark>Кати</mark> собаку звали Шарик, у Маши - Тобик, \n",
       "у Насти - Тошка, у Яны - Тишка, а у <mark>Марины</mark> был кот - Шустрик. А вот река Волга вообще не похожа на собственное. \n",
       "Но марка Бентли похожа.\n",
       "</div>"
      ],
      "text/plain": [
       "Matches('\\nОднажды я шла по улице и увидела маленького щенка. \\nЯ его взяла и принесла себе домой. Щенка назвала Рексик. \\nРексик рос не подням, а по часам. Был весёлым, быстрым, ловким. \\nУ моих подруг тоже были собаки: у Кати собаку звали Шарик, у Маши - Тобик, \\nу Насти - Тошка, у Яны - Тишка, а у Марины был кот - Шустрик. А вот река Волга вообще не похожа на собственное. \\nНо марка Бентли похожа.\\n',\n",
       "        [Match([MorphTagToken('Кати',\n",
       "                              [210, 214),\n",
       "                              'RU',\n",
       "                              'I',\n",
       "                              [Form('катя',\n",
       "                                    Grams(NOUN,Name,anim,femn,gent,sing)),\n",
       "                               Form('катя',\n",
       "                                    Grams(NOUN,Name,anim,femn,nomn,plur)),\n",
       "                               Form('катить',\n",
       "                                    Grams(VERB,excl,impf,impr,sing,tran))])],\n",
       "               [210, 214)),\n",
       "         Match([MorphTagToken('Марины',\n",
       "                              [288, 294),\n",
       "                              'RU',\n",
       "                              'I',\n",
       "                              [Form('марина',\n",
       "                                    Grams(NOUN,Name,anim,femn,gent,sing)),\n",
       "                               Form('марин',\n",
       "                                    Grams(NOUN,Name,anim,masc,nomn,plur)),\n",
       "                               Form('марина',\n",
       "                                    Grams(NOUN,Name,anim,femn,nomn,plur))])],\n",
       "               [288, 294))])"
      ]
     },
     "execution_count": 20,
     "metadata": {},
     "output_type": "execute_result"
    }
   ],
   "source": [
    "from natasha import (\n",
    "    NamesExtractor,\n",
    "    DatesExtractor,\n",
    "    MoneyExtractor,\n",
    "    LocationExtractor\n",
    ")\n",
    "\n",
    "extractor = NamesExtractor()\n",
    "text = '''\n",
    "Однажды я шла по улице и увидела маленького щенка. \n",
    "Я его взяла и принесла себе домой. Щенка назвала Рексик. \n",
    "Рексик рос не подням, а по часам. Был весёлым, быстрым, ловким. \n",
    "У моих подруг тоже были собаки: у Кати собаку звали Шарик, у Маши - Тобик, \n",
    "у Насти - Тошка, у Яны - Тишка, а у Марины был кот - Шустрик. А вот река Волга вообще не похожа на собственное. \n",
    "Но марка Бентли похожа.\n",
    "'''\n",
    "matches = extractor(text)\n",
    "matches"
   ]
  },
  {
   "cell_type": "code",
   "execution_count": 36,
   "metadata": {},
   "outputs": [
    {
     "name": "stdout",
     "output_type": "stream",
     "text": [
      "Location(name='чеченская республика')\n",
      "Location(name='донецкая народная республика')\n",
      "Location(name='российская федерация')\n",
      "Location(name='соединённый штат америка')\n",
      "Location(name='обьединённый арабский эмират')\n",
      "Location(name='соединённый штат')\n",
      "Location(name='волга')\n"
     ]
    },
    {
     "ename": "IndexError",
     "evalue": "list index out of range",
     "output_type": "error",
     "traceback": [
      "\u001b[1;31m---------------------------------------------------------------------------\u001b[0m",
      "\u001b[1;31mIndexError\u001b[0m                                Traceback (most recent call last)",
      "\u001b[1;32m<ipython-input-36-7813898a9ba5>\u001b[0m in \u001b[0;36m<module>\u001b[1;34m()\u001b[0m\n\u001b[0;32m     14\u001b[0m \u001b[1;32mfor\u001b[0m \u001b[0mline\u001b[0m \u001b[1;32min\u001b[0m \u001b[0mlines\u001b[0m\u001b[1;33m:\u001b[0m\u001b[1;33m\u001b[0m\u001b[0m\n\u001b[0;32m     15\u001b[0m     \u001b[0mmatches\u001b[0m \u001b[1;33m=\u001b[0m \u001b[0mextractor\u001b[0m\u001b[1;33m(\u001b[0m\u001b[0mline\u001b[0m\u001b[1;33m)\u001b[0m\u001b[1;33m\u001b[0m\u001b[0m\n\u001b[1;32m---> 16\u001b[1;33m     \u001b[0mmatch\u001b[0m \u001b[1;33m=\u001b[0m \u001b[0mmatches\u001b[0m\u001b[1;33m[\u001b[0m\u001b[1;36m0\u001b[0m\u001b[1;33m]\u001b[0m\u001b[1;33m\u001b[0m\u001b[0m\n\u001b[0m\u001b[0;32m     17\u001b[0m     \u001b[0mfact\u001b[0m \u001b[1;33m=\u001b[0m \u001b[0mmatch\u001b[0m\u001b[1;33m.\u001b[0m\u001b[0mfact\u001b[0m\u001b[1;33m\u001b[0m\u001b[0m\n\u001b[0;32m     18\u001b[0m     \u001b[0mprint\u001b[0m\u001b[1;33m(\u001b[0m\u001b[0mfact\u001b[0m\u001b[1;33m)\u001b[0m\u001b[1;33m\u001b[0m\u001b[0m\n",
      "\u001b[1;32m~\\Anaconda3\\lib\\site-packages\\natasha\\extractors.py\u001b[0m in \u001b[0;36m__getitem__\u001b[1;34m(self, index)\u001b[0m\n\u001b[0;32m     64\u001b[0m \u001b[1;33m\u001b[0m\u001b[0m\n\u001b[0;32m     65\u001b[0m     \u001b[1;32mdef\u001b[0m \u001b[0m__getitem__\u001b[0m\u001b[1;33m(\u001b[0m\u001b[0mself\u001b[0m\u001b[1;33m,\u001b[0m \u001b[0mindex\u001b[0m\u001b[1;33m)\u001b[0m\u001b[1;33m:\u001b[0m\u001b[1;33m\u001b[0m\u001b[0m\n\u001b[1;32m---> 66\u001b[1;33m         \u001b[1;32mreturn\u001b[0m \u001b[0mself\u001b[0m\u001b[1;33m.\u001b[0m\u001b[0mmatches\u001b[0m\u001b[1;33m[\u001b[0m\u001b[0mindex\u001b[0m\u001b[1;33m]\u001b[0m\u001b[1;33m\u001b[0m\u001b[0m\n\u001b[0m\u001b[0;32m     67\u001b[0m \u001b[1;33m\u001b[0m\u001b[0m\n\u001b[0;32m     68\u001b[0m     \u001b[1;32mdef\u001b[0m \u001b[0m__len__\u001b[0m\u001b[1;33m(\u001b[0m\u001b[0mself\u001b[0m\u001b[1;33m)\u001b[0m\u001b[1;33m:\u001b[0m\u001b[1;33m\u001b[0m\u001b[0m\n",
      "\u001b[1;31mIndexError\u001b[0m: list index out of range"
     ]
    }
   ],
   "source": [
    "extractor = LocationExtractor()\n",
    "\n",
    "lines = [\n",
    "    'В Чеченской республике на день рождения ...',\n",
    "    'Донецкая народная республика провозгласила ...',\n",
    "    'Российская Федерация',\n",
    "    'в Соединенных Штатах Америки',\n",
    "    'речь шла о Обьединенных Арабских Эмиратах',\n",
    "    'Соединённые Штаты',\n",
    "    'А вот река Волга вообще не похожа на собственное',\n",
    "    'Но марка Бентли похожа',\n",
    "]\n",
    "\n",
    "for line in lines:\n",
    "    matches = extractor(line)\n",
    "    match = matches[0]\n",
    "    fact = match.fact\n",
    "    print(fact)"
   ]
  },
  {
   "cell_type": "code",
   "execution_count": 1,
   "metadata": {},
   "outputs": [],
   "source": [
    "from sklearn.feature_extraction.text import CountVectorizer\n",
    "import numpy as np\n",
    " \n",
    "# инициализируем\n",
    "vectorizer = CountVectorizer()\n",
    "# составляем корпус документов\n",
    "corpus = [\n",
    "  'слово1 слово2 слово3',\n",
    "  'слово2 слово3',\n",
    "  'слово1 слово2 слово1',\n",
    "  'слово4'\n",
    "]\n",
    "# подсчитываем\n",
    "X = vectorizer.fit_transform(corpus)\n",
    " \n",
    "# таким образом будет подсчитана следующая структура:\n",
    "#        | слово1 | слово2 | слово3 | слово4\n",
    "# текст1 |   1    |    1   |   1    |   0\n",
    "# текст2 |   0    |    1   |   1    |   0\n",
    "# текст3 |   2    |    1   |   0    |   0\n",
    "# текст4 |   0    |    0   |   0    |   1\n",
    " \n",
    "# чтобы получить сгенерированный словарь, из приведенной структуры CountVectorizer, стоит отметить что порядок совпадает с матрицей\n",
    "vectorizer.get_feature_names()  # ['слово1', 'слово2', 'слово3', 'слово4']\n",
    " \n",
    "# чтобы узнать индекс токена в словаре\n",
    "vectorizer.vocabulary_.get('слово3') # вернет 2\n",
    " \n",
    "# показать матрицу\n",
    "X.toarray()\n",
    " \n",
    "# теперь можно быстро подсчитать вектор для нового документа\n",
    "vectorizer.transform([\"слово1 слово4 слово4\"])  # результат [[1 0 0 2]]\n",
    " \n",
    "# чтобы узнать количественное вхождение каждого слова:\n",
    "matrix_freq = np.asarray(X.sum(axis=0)).ravel()\n",
    "final_matrix = np.array([np.array(vectorizer.get_feature_names()), matrix_freq])"
   ]
  },
  {
   "cell_type": "code",
   "execution_count": 3,
   "metadata": {},
   "outputs": [],
   "source": [
    "from sklearn.neural_network import MLPClassifier"
   ]
  },
  {
   "cell_type": "code",
   "execution_count": 20,
   "metadata": {},
   "outputs": [],
   "source": [
    "model = MLPClassifier()"
   ]
  },
  {
   "cell_type": "code",
   "execution_count": 21,
   "metadata": {},
   "outputs": [],
   "source": [
    "vectorizer = CountVectorizer()\n",
    "# составляем корпус документов\n",
    "corpus = [\n",
    "  'Собака Шарик бегает',\n",
    "  'Я забрался на гору Шарик',\n",
    "  'Собака Дружок съела мой банан',\n",
    "  'Я случайно поплавал в реке Волга',\n",
    "    'Дмитрий сдал зачет по философии',\n",
    "    'Данила не поставил автомат ученикам',\n",
    "    'Собака Рекс любит кушать педигри',\n",
    "    'Кот Борис какает мимо лотка',\n",
    "    'Мария поспешила на учебу',\n",
    "    'Марианская впадина очень глубокая',\n",
    "    'Лиза пошла оформлять лабораторную работу',\n",
    "    'Филипп договорился с босом насчет зачета'\n",
    "]\n",
    "# подсчитываем\n",
    "X = vectorizer.fit_transform(corpus)\n",
    "y = [0,1,0,1]"
   ]
  },
  {
   "cell_type": "code",
   "execution_count": 23,
   "metadata": {},
   "outputs": [
    {
     "name": "stderr",
     "output_type": "stream",
     "text": [
      "C:\\Users\\dimas_000\\Anaconda3\\lib\\site-packages\\sklearn\\neural_network\\multilayer_perceptron.py:564: ConvergenceWarning: Stochastic Optimizer: Maximum iterations (200) reached and the optimization hasn't converged yet.\n",
      "  % self.max_iter, ConvergenceWarning)\n"
     ]
    },
    {
     "data": {
      "text/plain": [
       "MLPClassifier(activation='relu', alpha=0.0001, batch_size='auto', beta_1=0.9,\n",
       "       beta_2=0.999, early_stopping=False, epsilon=1e-08,\n",
       "       hidden_layer_sizes=(100,), learning_rate='constant',\n",
       "       learning_rate_init=0.001, max_iter=200, momentum=0.9,\n",
       "       nesterovs_momentum=True, power_t=0.5, random_state=None,\n",
       "       shuffle=True, solver='adam', tol=0.0001, validation_fraction=0.1,\n",
       "       verbose=False, warm_start=False)"
      ]
     },
     "execution_count": 23,
     "metadata": {},
     "output_type": "execute_result"
    }
   ],
   "source": [
    "model.fit(X,y)"
   ]
  },
  {
   "cell_type": "code",
   "execution_count": 33,
   "metadata": {},
   "outputs": [],
   "source": [
    "X_pred = vectorizer.transform(['Я забрался на гору Тибет'])"
   ]
  },
  {
   "cell_type": "code",
   "execution_count": 34,
   "metadata": {},
   "outputs": [],
   "source": [
    "y_pred = model.predict(X_pred)"
   ]
  },
  {
   "cell_type": "code",
   "execution_count": 35,
   "metadata": {},
   "outputs": [
    {
     "data": {
      "text/plain": [
       "array([1])"
      ]
     },
     "execution_count": 35,
     "metadata": {},
     "output_type": "execute_result"
    }
   ],
   "source": [
    "y_pred"
   ]
  },
  {
   "cell_type": "code",
   "execution_count": 4,
   "metadata": {},
   "outputs": [],
   "source": [
    "import pandas as pd"
   ]
  },
  {
   "cell_type": "code",
   "execution_count": 17,
   "metadata": {
    "scrolled": true
   },
   "outputs": [],
   "source": [
    "data = pd.read_csv(\"text.txt\",delimiter=';',header=None)"
   ]
  },
  {
   "cell_type": "code",
   "execution_count": 36,
   "metadata": {},
   "outputs": [
    {
     "data": {
      "text/plain": [
       "0    Всем привет, я подошел к реке Волга. Она очень...\n",
       "1            Ездит Машина Волга очень жестянная сидеть\n",
       "Name: 0, dtype: object"
      ]
     },
     "execution_count": 36,
     "metadata": {},
     "output_type": "execute_result"
    }
   ],
   "source": [
    "data[0]"
   ]
  },
  {
   "cell_type": "code",
   "execution_count": 37,
   "metadata": {},
   "outputs": [
    {
     "data": {
      "text/plain": [
       "0    1\n",
       "1    0\n",
       "Name: 1, dtype: int64"
      ]
     },
     "execution_count": 37,
     "metadata": {},
     "output_type": "execute_result"
    }
   ],
   "source": [
    "data[1]"
   ]
  },
  {
   "cell_type": "code",
   "execution_count": null,
   "metadata": {},
   "outputs": [],
   "source": []
  },
  {
   "cell_type": "code",
   "execution_count": null,
   "metadata": {},
   "outputs": [],
   "source": []
  }
 ],
 "metadata": {
  "kernelspec": {
   "display_name": "Python 3",
   "language": "python",
   "name": "python3"
  },
  "language_info": {
   "codemirror_mode": {
    "name": "ipython",
    "version": 3
   },
   "file_extension": ".py",
   "mimetype": "text/x-python",
   "name": "python",
   "nbconvert_exporter": "python",
   "pygments_lexer": "ipython3",
   "version": "3.6.5"
  }
 },
 "nbformat": 4,
 "nbformat_minor": 2
}
