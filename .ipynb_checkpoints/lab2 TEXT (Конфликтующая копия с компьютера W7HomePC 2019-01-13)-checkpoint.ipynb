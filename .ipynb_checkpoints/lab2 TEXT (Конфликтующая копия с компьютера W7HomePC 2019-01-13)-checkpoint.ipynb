{
 "cells": [
  {
   "cell_type": "code",
   "execution_count": 1,
   "metadata": {
    "scrolled": false
   },
   "outputs": [],
   "source": [
    "import pandas as pd\n",
    "from sklearn.feature_extraction.text import CountVectorizer\n",
    "from sklearn.neural_network import MLPClassifier\n",
    "import numpy as np"
   ]
  },
  {
   "cell_type": "code",
   "execution_count": 6,
   "metadata": {},
   "outputs": [],
   "source": [
    "import urllib\n",
    "from bs4 import BeautifulSoup"
   ]
  },
  {
   "cell_type": "code",
   "execution_count": 7,
   "metadata": {
    "scrolled": true
   },
   "outputs": [],
   "source": [
    "model = MLPClassifier()\n",
    "vectorizer = CountVectorizer()\n",
    "data = pd.read_csv(\"train.txt\",delimiter=';',header=None)"
   ]
  },
  {
   "cell_type": "code",
   "execution_count": 8,
   "metadata": {},
   "outputs": [],
   "source": [
    "X = vectorizer.fit_transform(data[0])\n",
    "y = data[1]"
   ]
  },
  {
   "cell_type": "code",
   "execution_count": 9,
   "metadata": {},
   "outputs": [
    {
     "name": "stderr",
     "output_type": "stream",
     "text": [
      "C:\\Anaconda\\lib\\site-packages\\sklearn\\neural_network\\multilayer_perceptron.py:562: ConvergenceWarning: Stochastic Optimizer: Maximum iterations (200) reached and the optimization hasn't converged yet.\n",
      "  % self.max_iter, ConvergenceWarning)\n"
     ]
    },
    {
     "data": {
      "text/plain": [
       "MLPClassifier(activation='relu', alpha=0.0001, batch_size='auto', beta_1=0.9,\n",
       "       beta_2=0.999, early_stopping=False, epsilon=1e-08,\n",
       "       hidden_layer_sizes=(100,), learning_rate='constant',\n",
       "       learning_rate_init=0.001, max_iter=200, momentum=0.9,\n",
       "       n_iter_no_change=10, nesterovs_momentum=True, power_t=0.5,\n",
       "       random_state=None, shuffle=True, solver='adam', tol=0.0001,\n",
       "       validation_fraction=0.1, verbose=False, warm_start=False)"
      ]
     },
     "execution_count": 9,
     "metadata": {},
     "output_type": "execute_result"
    }
   ],
   "source": [
    "model.fit(X,y)"
   ]
  },
  {
   "cell_type": "code",
   "execution_count": 11,
   "metadata": {},
   "outputs": [
    {
     "data": {
      "text/plain": [
       "array([3, 2], dtype=int64)"
      ]
     },
     "execution_count": 11,
     "metadata": {},
     "output_type": "execute_result"
    }
   ],
   "source": [
    "#ЭТО ЧИСТО ЗАЦЕНИТЬ КЛАССИФИКАТОР\n",
    "X_pred = vectorizer.transform(['Мы купили Сане педигри', 'Мы купили Сане зачет'])\n",
    "y_pred = model.predict(X_pred)\n",
    "y_pred"
   ]
  },
  {
   "cell_type": "code",
   "execution_count": 28,
   "metadata": {},
   "outputs": [],
   "source": [
    "from natasha import (\n",
    "    NamesExtractor,\n",
    "    LocationExtractor\n",
    ")\n",
    "import pymorphy2\n",
    "from nltk.tokenize import PunktSentenceTokenizer as PST\n",
    "from nltk.tokenize import WordPunctTokenizer as WPT\n",
    "st = PST()\n",
    "wt = WPT()\n",
    "geos = []\n",
    "names = []\n",
    "pets = []\n",
    "marks = []\n",
    "morph = pymorphy2.MorphAnalyzer()\n",
    "extractor = NamesExtractor()"
   ]
  },
  {
   "cell_type": "code",
   "execution_count": null,
   "metadata": {
    "scrolled": true
   },
   "outputs": [],
   "source": [
    "#старое\n",
    "paragraphs = []\n",
    "url = 'https://ilibrary.ru/text/477/p.1/index.html'\n",
    "page = urllib.request.urlopen(url)\n",
    "soup = BeautifulSoup(page, 'html.parser') #получаем страницу\n",
    "\n",
    "messages = soup.findAll('span', attrs={'class': 'p'}) #берем то, что надо (сообщения)\n",
    "for m in messages: #для каждого сообщения\n",
    "    if 'span' not in str(m.contents[1]):\n",
    "        parts = m.contents[1].split('.')\n",
    "        for p in parts:\n",
    "            paragraphs.append(p)"
   ]
  },
  {
   "cell_type": "code",
   "execution_count": 44,
   "metadata": {},
   "outputs": [],
   "source": [
    "def do_natasha(text, arr):\n",
    "    extractor = LocationExtractor()\n",
    "    matches = extractor(text)\n",
    "    for match in matches:\n",
    "        start, stop = match.span\n",
    "        if text[start:stop] not in arr:\n",
    "            arr.append(text[start:stop])\n",
    "    return arr\n",
    "\n",
    "def do_pymorphy(text, arr, search_type):\n",
    "    for word in wt.tokenize(text):\n",
    "        for morphx in morph.parse(word):\n",
    "            if search_type in morphx.tag and morphx.score>=0.3:\n",
    "                if morphx.normal_form not in arr:\n",
    "                    arr+=[morphx.normal_form]\n",
    "    \n",
    "\n",
    "def text_classification(path):\n",
    "    with open(path, 'r', encoding='utf-8') as file:\n",
    "        text = file.read()\n",
    "    text_=st.sentences_from_text(text)\n",
    "    paragraphs = []\n",
    "    paragraphs += text_\n",
    "    X_pred = vectorizer.transform(paragraphs)\n",
    "    y_pred = model.predict(X_pred)\n",
    "    for i in range(len(paragraphs)):\n",
    "        if y_pred[i] == 1:\n",
    "            #do_natasha(paragraphs[i], geos)\n",
    "            do_pymorphy(paragraphs[i], geos, \"Geox\")      \n",
    "        elif y_pred[i] == 2:\n",
    "            do_pymorphy(paragraphs[i], names, \"Name\")\n",
    "        elif y_pred[i] == 3:\n",
    "            do_pymorphy(paragraphs[i], pets, \"Name\")\n",
    "        elif y_pred[i] == 4:\n",
    "            do_pymorphy(paragraphs[i], marks, \"Trad\")\n"
   ]
  },
  {
   "cell_type": "code",
   "execution_count": 42,
   "metadata": {},
   "outputs": [],
   "source": [
    "for i in range(7):\n",
    "    path = 'pushkin/' + str(i+1) + '.txt'    \n",
    "    text_classification(path)    "
   ]
  },
  {
   "cell_type": "code",
   "execution_count": 45,
   "metadata": {},
   "outputs": [
    {
     "data": {
      "text/plain": [
       "49"
      ]
     },
     "execution_count": 45,
     "metadata": {},
     "output_type": "execute_result"
    }
   ],
   "source": [
    "len(geos)"
   ]
  },
  {
   "cell_type": "code",
   "execution_count": 2,
   "metadata": {},
   "outputs": [],
   "source": [
    "try: \n",
    "    geofile = open('geox.txt', 'r', encoding='utf-8')\n",
    "    geos = [line.strip() for line in geofile]\n",
    "except FileNotFoundError:\n",
    "    geos.sort()\n",
    "    geofile = open('geox.txt', \"w\", encoding='utf-8')\n",
    "    for i in geos:\n",
    "        geofile.write(i+'\\n')\n",
    "    geofile.close()"
   ]
  },
  {
   "cell_type": "code",
   "execution_count": 3,
   "metadata": {},
   "outputs": [
    {
     "name": "stdout",
     "output_type": "stream",
     "text": [
      "Using matplotlib backend: Qt5Agg\n"
     ]
    }
   ],
   "source": [
    "%matplotlib"
   ]
  },
  {
   "cell_type": "code",
   "execution_count": 4,
   "metadata": {},
   "outputs": [],
   "source": [
    "import cv2\n",
    "import matplotlib.pyplot as plt\n",
    "\n",
    "GeoD={}\n",
    "coord=[]\n",
    "\n",
    "try: #считываю координаты из файла\n",
    "    geocoord = open('coord.txt','r', encoding='utf-8')\n",
    "    coord=[]\n",
    "    temp = []\n",
    "    k=0\n",
    "    for line in geocoord:\n",
    "        if k==2:\n",
    "            coord+=[temp]\n",
    "            k=0\n",
    "            temp=[]\n",
    "        temp+=[float(line)]\n",
    "        k+=1\n",
    "    coord+=[temp]\n",
    "except FileNotFoundError:\n",
    "    geocoord_Real = open('coordReal.txt', \"w\", encoding='utf-8')\n",
    "    for i in geos:\n",
    "        x=float(np.random.uniform(-180, 180, 1))\n",
    "        y=float(np.random.uniform(-90, 90, 1))\n",
    "        geocoord_Real.write(i+'\\n')\n",
    "        geocoord_Real.write(str(x)+'\\n')\n",
    "        geocoord_Real.write(str(y)+'\\n')\n",
    "\n",
    "        x=((x+180)*2)/(180+180)-1\n",
    "        y=((y+90)*2)/(90+90)-1\n",
    "        X=[x,y]\n",
    "        coord+=[X]\n",
    "        GeoD.update({i:X})\n",
    "    geocoord_Real.close()\n",
    "    geocoord = open('coord.txt', \"w\", encoding='utf-8')\n",
    "    for i in coord:\n",
    "        for j in i:\n",
    "            geocoord.write(str(j)+'\\n')\n",
    "    geocoord.close()"
   ]
  },
  {
   "cell_type": "code",
   "execution_count": 5,
   "metadata": {},
   "outputs": [
    {
     "name": "stdout",
     "output_type": "stream",
     "text": [
      "(720, 1280, 3)\n",
      "63\n"
     ]
    },
    {
     "data": {
      "image/png": "[encoded data removed]",
      "text/plain": [
       "<Figure size 432x288 with 1 Axes>"
      ]
     },
     "metadata": {
      "needs_background": "light"
     },
     "output_type": "display_data"
    }
   ],
   "source": [
    "from PIL import ImageFont, ImageDraw, Image \n",
    "#img = cv2.imread('konturnaya-karta-mira320016002.jpg')\n",
    "#img = np.zeros((500,1000,3), np.uint8)\n",
    "img = cv2.imread('white.jpg')\n",
    "shape = img.shape\n",
    "print(shape)\n",
    "print(len(coord))\n",
    "y = shape[0]\n",
    "x = shape[1] \n",
    "\n",
    "def norm_coordinates(x1, y1):\n",
    "    if x1 < 100:\n",
    "        x1 += 25\n",
    "    if x1 > 650:\n",
    "        x1 -= 80\n",
    "    if y1 < 100:\n",
    "        y1 += 25\n",
    "    if y1 > 1200:\n",
    "        y1 -=80\n",
    "    return x1, y1\n",
    "            \n",
    "\n",
    "for j in coord:\n",
    "    x1 = j[0]\n",
    "    y1 = j[1]\n",
    "    x1 = int((x1*x+x)/2)\n",
    "    y1 = y - int((y1*y+y)/2)\n",
    "    x1, y1 = norm_coordinates(x1,y1)\n",
    "    cv2.circle(img,(x1,y1), 20, (255,0,0), -1)\n",
    "    #cv2.putText(img, geos[i], (x1, y1), cv2.FONT_HERSHEY_SIMPLEX, 0.4, (0, 0, 255), 1)\n",
    "    \n",
    "    \n",
    "# Convert the image to RGB (OpenCV uses BGR)\n",
    "cv2_im_rgb = cv2.cvtColor(img,cv2.COLOR_BGR2RGB)  \n",
    " # Pass the image to PIL  \n",
    "pil_im = Image.fromarray(cv2_im_rgb)    \n",
    "draw = ImageDraw.Draw(pil_im)  \n",
    " # use a truetype font  \n",
    "font = ImageFont.truetype(\"cour.ttf\", 30) \n",
    "\n",
    "i = 0\n",
    "for j in coord:\n",
    "    x1 = j[0] \n",
    "    y1 = j[1] \n",
    "    x1 = int((x1*x+x)/2)\n",
    "    y1 = y - int((y1*y+y)/2)\n",
    "    x1, y1 = norm_coordinates(x1,y1)\n",
    "    draw.text((x1+10, y1+10), geos[i], font=font, fill=(0,0,0,255)) \n",
    "    i +=1\n",
    "    \n",
    " # Get back the image to OpenCV  \n",
    "cv2_im_processed = cv2.cvtColor(np.array(pil_im), cv2.COLOR_RGB2BGR)  \n",
    "\n",
    "cv2.imshow('GeoMap', cv2_im_processed) \n",
    "plt.imshow(img)\n",
    "plt.show()"
   ]
  },
  {
   "cell_type": "code",
   "execution_count": null,
   "metadata": {},
   "outputs": [],
   "source": []
  }
 ],
 "metadata": {
  "kernelspec": {
   "display_name": "Python 3",
   "language": "python",
   "name": "python3"
  },
  "language_info": {
   "codemirror_mode": {
    "name": "ipython",
    "version": 3
   },
   "file_extension": ".py",
   "mimetype": "text/x-python",
   "name": "python",
   "nbconvert_exporter": "python",
   "pygments_lexer": "ipython3",
   "version": "3.6.7"
  }
 },
 "nbformat": 4,
 "nbformat_minor": 2
}
